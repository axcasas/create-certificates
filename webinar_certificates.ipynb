{
 "cells": [
  {
   "attachments": {},
   "cell_type": "markdown",
   "metadata": {},
   "source": [
    "# Automate and Create Certificates using Python "
   ]
  },
  {
   "cell_type": "markdown",
   "metadata": {},
   "source": [
    "author: Axel Casas  \n",
    "mail: axel.em.casas@gmail.com  \n",
    "linkedin: https://www.linkedin.com/in/axel-casas/"
   ]
  },
  {
   "cell_type": "markdown",
   "metadata": {},
   "source": [
    "In this notebook we will use a create_certificate function to automate the creation of several certificates.  \n",
    "\n",
    "In a nutshell, we'll create them in 3 simple steps:\n",
    "\n",
    "1. Import modules \n",
    "2. Load csv file\n",
    "3. Set variables and call the create_certificate function"
   ]
  },
  {
   "cell_type": "markdown",
   "metadata": {},
   "source": [
    "## Step 1: import modules"
   ]
  },
  {
   "cell_type": "markdown",
   "metadata": {},
   "source": [
    "We need pandas, os, some pillow functions and the create_certificate function. \n",
    "If you don't see it is because it's on another python file! That's why we're calling it here"
   ]
  },
  {
   "cell_type": "code",
   "execution_count": 5,
   "metadata": {},
   "outputs": [],
   "source": [
    "import pandas as pd\n",
    "import os \n",
    "from PIL import Image, ImageDraw, ImageFont\n",
    "from create_certificate import create_certificate"
   ]
  },
  {
   "cell_type": "markdown",
   "metadata": {},
   "source": [
    "## Step 2: Load CSV file"
   ]
  },
  {
   "cell_type": "markdown",
   "metadata": {},
   "source": [
    "For these certificates we need data for names. You can custom the code as you want :)"
   ]
  },
  {
   "cell_type": "code",
   "execution_count": 6,
   "metadata": {},
   "outputs": [
    {
     "data": {
      "text/html": [
       "<div>\n",
       "<style scoped>\n",
       "    .dataframe tbody tr th:only-of-type {\n",
       "        vertical-align: middle;\n",
       "    }\n",
       "\n",
       "    .dataframe tbody tr th {\n",
       "        vertical-align: top;\n",
       "    }\n",
       "\n",
       "    .dataframe thead th {\n",
       "        text-align: right;\n",
       "    }\n",
       "</style>\n",
       "<table border=\"1\" class=\"dataframe\">\n",
       "  <thead>\n",
       "    <tr style=\"text-align: right;\">\n",
       "      <th></th>\n",
       "      <th>time</th>\n",
       "      <th>mail</th>\n",
       "      <th>nombre_apellido</th>\n",
       "      <th>dni</th>\n",
       "    </tr>\n",
       "  </thead>\n",
       "  <tbody>\n",
       "    <tr>\n",
       "      <th>0</th>\n",
       "      <td>27/11/2023 19:46:53</td>\n",
       "      <td>lmirocznyk@gmail.com</td>\n",
       "      <td>MIROCZNYK, Lucila</td>\n",
       "      <td>41558147</td>\n",
       "    </tr>\n",
       "    <tr>\n",
       "      <th>1</th>\n",
       "      <td>27/11/2023 19:46:55</td>\n",
       "      <td>brisa.luna@mi.unc.edu.ar</td>\n",
       "      <td>LUNA DURO, Brisa Mailen</td>\n",
       "      <td>43156757</td>\n",
       "    </tr>\n",
       "    <tr>\n",
       "      <th>2</th>\n",
       "      <td>27/11/2023 19:46:59</td>\n",
       "      <td>nehuenherrera87@gmail.com</td>\n",
       "      <td>HERRERA, Ángel Nehuen</td>\n",
       "      <td>41841526</td>\n",
       "    </tr>\n",
       "    <tr>\n",
       "      <th>3</th>\n",
       "      <td>27/11/2023 19:47:12</td>\n",
       "      <td>juli_filani6@live.com.ar</td>\n",
       "      <td>FILANI, Julián</td>\n",
       "      <td>41778733</td>\n",
       "    </tr>\n",
       "    <tr>\n",
       "      <th>4</th>\n",
       "      <td>27/11/2023 19:47:14</td>\n",
       "      <td>fedelago22@gmail.com</td>\n",
       "      <td>LAGO, Federico</td>\n",
       "      <td>44360591</td>\n",
       "    </tr>\n",
       "  </tbody>\n",
       "</table>\n",
       "</div>"
      ],
      "text/plain": [
       "                  time                       mail          nombre_apellido   \n",
       "0  27/11/2023 19:46:53       lmirocznyk@gmail.com        MIROCZNYK, Lucila  \\\n",
       "1  27/11/2023 19:46:55   brisa.luna@mi.unc.edu.ar  LUNA DURO, Brisa Mailen   \n",
       "2  27/11/2023 19:46:59  nehuenherrera87@gmail.com    HERRERA, Ángel Nehuen   \n",
       "3  27/11/2023 19:47:12   juli_filani6@live.com.ar          FILANI, Julián    \n",
       "4  27/11/2023 19:47:14       fedelago22@gmail.com           LAGO, Federico   \n",
       "\n",
       "        dni  \n",
       "0  41558147  \n",
       "1  43156757  \n",
       "2  41841526  \n",
       "3  41778733  \n",
       "4  44360591  "
      ]
     },
     "execution_count": 6,
     "metadata": {},
     "output_type": "execute_result"
    }
   ],
   "source": [
    "data = pd.read_csv('data/asistencia_alcohol_gimenez.csv')\n",
    "data.head()"
   ]
  },
  {
   "attachments": {},
   "cell_type": "markdown",
   "metadata": {},
   "source": [
    "## Step 3: Set Variables and call create_certificate function"
   ]
  },
  {
   "attachments": {},
   "cell_type": "markdown",
   "metadata": {},
   "source": [
    "For the create_certificate() function we need 4 arguments: \n",
    "\n",
    "\n",
    "1. **Names**: the name that will display on the certificate. \n",
    "\n",
    "2. **Certificate**: the certificate template we'll write in. \n",
    "\n",
    "3. **ID**: the certificate ID that will display on the certificate. \n",
    "\n",
    "4. **Output_folder**: where the new certificates will be stored. "
   ]
  },
  {
   "cell_type": "code",
   "execution_count": 7,
   "metadata": {},
   "outputs": [],
   "source": [
    "# set variables\n",
    "names = data['nombre_apellido'] # nombres para los certis\n",
    "certificate = 'data/certificado_webinar_intervenciones_alcohol_gimenez.jpg' # template del certificado\n",
    "id = data['dni'] # dni\n",
    "output_folder = 'certificates' # carpeta donde se van a guardar los certis"
   ]
  },
  {
   "cell_type": "code",
   "execution_count": 8,
   "metadata": {},
   "outputs": [
    {
     "name": "stdout",
     "output_type": "stream",
     "text": [
      "Creating your certificates...\n",
      "Saved certificate for MIROCZNYK, Lucila at certificates/MIROCZNYK, Lucila.pdf\n",
      "Saved certificate for LUNA DURO, Brisa Mailen at certificates/LUNA DURO, Brisa Mailen.pdf\n",
      "Saved certificate for HERRERA, Ángel Nehuen at certificates/HERRERA, Ángel Nehuen.pdf\n",
      "Saved certificate for FILANI, Julián  at certificates/FILANI, Julián .pdf\n",
      "Saved certificate for LAGO, Federico at certificates/LAGO, Federico.pdf\n",
      "Saved certificate for RIALE, Luciana Antonella at certificates/RIALE, Luciana Antonella.pdf\n",
      "Saved certificate for GUTIÉRREZ, Sebastián Leonel at certificates/GUTIÉRREZ, Sebastián Leonel.pdf\n",
      "Saved certificate for ARÉVALO, Camila Aldana  at certificates/ARÉVALO, Camila Aldana .pdf\n",
      "Saved certificate for ZOCCO, Macarena Lucía at certificates/ZOCCO, Macarena Lucía.pdf\n",
      "Saved certificate for MERCADO RICARTE, Jesús Augusto at certificates/MERCADO RICARTE, Jesús Augusto.pdf\n",
      "Saved certificate for CORONEL, Agustina at certificates/CORONEL, Agustina.pdf\n",
      "Saved certificate for SALAZAR, María del valle  at certificates/SALAZAR, María del valle .pdf\n",
      "Saved certificate for VISCARDI, Jazmin Anabel  at certificates/VISCARDI, Jazmin Anabel .pdf\n",
      "Saved certificate for D'ALESSANDRO, Daiana Aylen at certificates/D'ALESSANDRO, Daiana Aylen.pdf\n",
      "Saved certificate for Torres Lucía Valentina   at certificates/Torres Lucía Valentina  .pdf\n",
      "Saved certificate for PUENTE, Sofía Celeste  at certificates/PUENTE, Sofía Celeste .pdf\n",
      "Saved certificate for UBALDE, Alexis Martin at certificates/UBALDE, Alexis Martin.pdf\n",
      "Saved certificate for GODOY, Daniel at certificates/GODOY, Daniel.pdf\n",
      "Saved certificate for CORREA, Kiara at certificates/CORREA, Kiara.pdf\n",
      "Saved certificate for FLORES, Silvia Belén at certificates/FLORES, Silvia Belén.pdf\n",
      "Saved certificate for SABINI, Martín at certificates/SABINI, Martín.pdf\n",
      "Saved certificate for Jara Saravia, Carol at certificates/Jara Saravia, Carol.pdf\n",
      "Saved certificate for Lezcano, Nicolás Ezequiel at certificates/Lezcano, Nicolás Ezequiel.pdf\n",
      "Saved certificate for ACOSTA, Iara at certificates/ACOSTA, Iara.pdf\n",
      "Saved certificate for LOPEZ, Lucia at certificates/LOPEZ, Lucia.pdf\n",
      "Saved certificate for Agosti Natalia at certificates/Agosti Natalia.pdf\n",
      "Saved certificate for Aseguín, Viviana Soledad at certificates/Aseguín, Viviana Soledad.pdf\n",
      "Saved certificate for VERA, Agustina Camila at certificates/VERA, Agustina Camila.pdf\n",
      "Saved certificate for D'ADAM, Naiara at certificates/D'ADAM, Naiara.pdf\n",
      "Saved certificate for PACHADO, Lucía Maité at certificates/PACHADO, Lucía Maité.pdf\n",
      "Saved certificate for HERNÁNDEZ, María Vanesa at certificates/HERNÁNDEZ, María Vanesa.pdf\n",
      "Saved certificate for AREVALO Carla Pamela  at certificates/AREVALO Carla Pamela .pdf\n",
      "Saved certificate for LEONHARDT, Gimena  at certificates/LEONHARDT, Gimena .pdf\n",
      "Saved certificate for GUALTIERI GUTIERREZ, Micaela  at certificates/GUALTIERI GUTIERREZ, Micaela .pdf\n",
      "Saved certificate for SERVERA, Martina at certificates/SERVERA, Martina.pdf\n",
      "Saved certificate for BUDING PRINA, Avril at certificates/BUDING PRINA, Avril.pdf\n",
      "Saved certificate for RIBERA, Juan Francisco at certificates/RIBERA, Juan Francisco.pdf\n"
     ]
    }
   ],
   "source": [
    "# call the function\n",
    "create_certificate(names,id,certificate,output_folder) # make new certificates"
   ]
  },
  {
   "cell_type": "markdown",
   "metadata": {},
   "source": [
    "# Certificates Done!"
   ]
  },
  {
   "cell_type": "markdown",
   "metadata": {},
   "source": [
    "Hopefully, you already got your certificates! If you have issues report to GPT or Stack Over Flow. "
   ]
  },
  {
   "cell_type": "markdown",
   "metadata": {},
   "source": [
    "One issue I encountered was related with the font to write the text on the images. I have an IOS operating system, and i got many errors trying to use fonts that I already downloaded. To make things easier I used the available fonts that are included in my operating system, so you may need to adjust the code if you're using Windows or Linux!  "
   ]
  },
  {
   "cell_type": "markdown",
   "metadata": {},
   "source": [
    "That's it! Feel free to adjust and modify the code as you want!"
   ]
  }
 ],
 "metadata": {
  "kernelspec": {
   "display_name": "venv",
   "language": "python",
   "name": "python3"
  },
  "language_info": {
   "codemirror_mode": {
    "name": "ipython",
    "version": 3
   },
   "file_extension": ".py",
   "mimetype": "text/x-python",
   "name": "python",
   "nbconvert_exporter": "python",
   "pygments_lexer": "ipython3",
   "version": "3.10.13"
  },
  "orig_nbformat": 4
 },
 "nbformat": 4,
 "nbformat_minor": 2
}
