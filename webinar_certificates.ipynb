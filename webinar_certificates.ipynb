{
 "cells": [
  {
   "attachments": {},
   "cell_type": "markdown",
   "metadata": {},
   "source": [
    "# Automate and Create Certificates using Python "
   ]
  },
  {
   "cell_type": "markdown",
   "metadata": {},
   "source": [
    "author: Axel Casas  \n",
    "mail: axel.em.casas@gmail.com  \n",
    "linkedin: https://www.linkedin.com/in/axel-casas/"
   ]
  },
  {
   "cell_type": "markdown",
   "metadata": {},
   "source": [
    "In this notebook we will use a create_certificate function to automate the creation of several certificates.  \n",
    "\n",
    "In a nutshell, we'll create them in 3 simple steps:\n",
    "\n",
    "1. Import modules \n",
    "2. Load csv file\n",
    "3. Set variables and call the create_certificate function"
   ]
  },
  {
   "cell_type": "markdown",
   "metadata": {},
   "source": [
    "## Step 1: import modules"
   ]
  },
  {
   "cell_type": "markdown",
   "metadata": {},
   "source": [
    "We need pandas, os, some pillow functions and the create_certificate function. \n",
    "If you don't see it is because it's on another python file! That's why we're calling it here"
   ]
  },
  {
   "cell_type": "code",
   "execution_count": 1,
   "metadata": {},
   "outputs": [],
   "source": [
    "import pandas as pd\n",
    "import os \n",
    "from PIL import Image, ImageDraw, ImageFont\n",
    "from create_certificate import create_certificate"
   ]
  },
  {
   "cell_type": "markdown",
   "metadata": {},
   "source": [
    "## Step 2: Load CSV file"
   ]
  },
  {
   "cell_type": "markdown",
   "metadata": {},
   "source": [
    "For these certificates we need data for names. You can custom the code as you want :)"
   ]
  },
  {
   "cell_type": "code",
   "execution_count": 2,
   "metadata": {},
   "outputs": [
    {
     "data": {
      "text/html": [
       "<div>\n",
       "<style scoped>\n",
       "    .dataframe tbody tr th:only-of-type {\n",
       "        vertical-align: middle;\n",
       "    }\n",
       "\n",
       "    .dataframe tbody tr th {\n",
       "        vertical-align: top;\n",
       "    }\n",
       "\n",
       "    .dataframe thead th {\n",
       "        text-align: right;\n",
       "    }\n",
       "</style>\n",
       "<table border=\"1\" class=\"dataframe\">\n",
       "  <thead>\n",
       "    <tr style=\"text-align: right;\">\n",
       "      <th></th>\n",
       "      <th>names</th>\n",
       "      <th>dni</th>\n",
       "    </tr>\n",
       "  </thead>\n",
       "  <tbody>\n",
       "    <tr>\n",
       "      <th>0</th>\n",
       "      <td>Axel Casas</td>\n",
       "      <td>111111</td>\n",
       "    </tr>\n",
       "    <tr>\n",
       "      <th>1</th>\n",
       "      <td>Alex Casas</td>\n",
       "      <td>111111</td>\n",
       "    </tr>\n",
       "    <tr>\n",
       "      <th>2</th>\n",
       "      <td>Axl Casas</td>\n",
       "      <td>111111</td>\n",
       "    </tr>\n",
       "  </tbody>\n",
       "</table>\n",
       "</div>"
      ],
      "text/plain": [
       "        names     dni\n",
       "0  Axel Casas  111111\n",
       "1  Alex Casas  111111\n",
       "2   Axl Casas  111111"
      ]
     },
     "execution_count": 2,
     "metadata": {},
     "output_type": "execute_result"
    }
   ],
   "source": [
    "data = pd.read_csv('data/data.csv')\n",
    "data.head()"
   ]
  },
  {
   "attachments": {},
   "cell_type": "markdown",
   "metadata": {},
   "source": [
    "## Step 3: Set Variables and call create_certificate function"
   ]
  },
  {
   "attachments": {},
   "cell_type": "markdown",
   "metadata": {},
   "source": [
    "For the create_certificate() function we need 4 arguments: \n",
    "\n",
    "\n",
    "1. **Names**: the name that will display on the certificate. \n",
    "\n",
    "2. **Certificate**: the certificate template we'll write in. \n",
    "\n",
    "3. **ID**: the certificate ID that will display on the certificate. \n",
    "\n",
    "4. **Output_folder**: where the new certificates will be stored. "
   ]
  },
  {
   "cell_type": "code",
   "execution_count": 5,
   "metadata": {},
   "outputs": [],
   "source": [
    "# set variables\n",
    "names = data['names'] # nombres para los certis\n",
    "certificate = 'data/certificado_webinar_intervenciones_alcohol_gimenez.jpg' # template del certificado\n",
    "id = data['dni'] # dni\n",
    "output_folder = 'certificates' # carpeta donde se van a guardar los certis"
   ]
  },
  {
   "cell_type": "code",
   "execution_count": 6,
   "metadata": {},
   "outputs": [
    {
     "name": "stdout",
     "output_type": "stream",
     "text": [
      "Creating your certificates...\n",
      "Saved certificate for Axel Casas at certificates/Axel Casas.pdf\n",
      "Saved certificate for Alex Casas at certificates/Alex Casas.pdf\n",
      "Saved certificate for Axl Casas at certificates/Axl Casas.pdf\n"
     ]
    }
   ],
   "source": [
    "# call the function\n",
    "create_certificate(names,id,certificate,output_folder) # make new certificates"
   ]
  },
  {
   "cell_type": "markdown",
   "metadata": {},
   "source": [
    "# Certificates Done!"
   ]
  },
  {
   "cell_type": "markdown",
   "metadata": {},
   "source": [
    "Hopefully, you already got your certificates! If you have issues report to GPT or Stack Over Flow. "
   ]
  },
  {
   "cell_type": "markdown",
   "metadata": {},
   "source": [
    "One issue I encountered was related with the font to write the text on the images. I have an IOS operating system, and i got many errors trying to use fonts that I already downloaded. To make things easier I used the available fonts that are included in my operating system, so you may need to adjust the code if you're using Windows or Linux!  "
   ]
  },
  {
   "cell_type": "markdown",
   "metadata": {},
   "source": [
    "That's it! Feel free to adjust and modify the code as you want!"
   ]
  }
 ],
 "metadata": {
  "kernelspec": {
   "display_name": "venv",
   "language": "python",
   "name": "python3"
  },
  "language_info": {
   "codemirror_mode": {
    "name": "ipython",
    "version": 3
   },
   "file_extension": ".py",
   "mimetype": "text/x-python",
   "name": "python",
   "nbconvert_exporter": "python",
   "pygments_lexer": "ipython3",
   "version": "3.10.13"
  },
  "orig_nbformat": 4
 },
 "nbformat": 4,
 "nbformat_minor": 2
}
